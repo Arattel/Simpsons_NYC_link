{
 "cells": [
  {
   "cell_type": "markdown",
   "metadata": {},
   "source": [
    "Necessary imports"
   ]
  },
  {
   "cell_type": "code",
   "execution_count": 1,
   "metadata": {},
   "outputs": [],
   "source": [
    "import pandas as pd\n",
    "import numpy as np\n",
    "from matplotlib import pyplot as plt"
   ]
  },
  {
   "cell_type": "markdown",
   "metadata": {},
   "source": [
    "Let's preprocess and clean our older articles data. By older articles I mean articles from 1990-1999 years that was not in dataset. "
   ]
  },
  {
   "cell_type": "code",
   "execution_count": 3,
   "metadata": {},
   "outputs": [
    {
     "data": {
      "text/html": [
       "<div>\n",
       "<style scoped>\n",
       "    .dataframe tbody tr th:only-of-type {\n",
       "        vertical-align: middle;\n",
       "    }\n",
       "\n",
       "    .dataframe tbody tr th {\n",
       "        vertical-align: top;\n",
       "    }\n",
       "\n",
       "    .dataframe thead th {\n",
       "        text-align: right;\n",
       "    }\n",
       "</style>\n",
       "<table border=\"1\" class=\"dataframe\">\n",
       "  <thead>\n",
       "    <tr style=\"text-align: right;\">\n",
       "      <th></th>\n",
       "      <th>0</th>\n",
       "      <th>1</th>\n",
       "      <th>text</th>\n",
       "    </tr>\n",
       "  </thead>\n",
       "  <tbody>\n",
       "    <tr>\n",
       "      <th>0</th>\n",
       "      <td>1990-10-28T05:00:00+0000</td>\n",
       "      <td>https://www.nytimes.com/1990/10/28/nyregion/le...</td>\n",
       "      <td>AS if Long Island did not have enough of its o...</td>\n",
       "    </tr>\n",
       "    <tr>\n",
       "      <th>1</th>\n",
       "      <td>1990-02-09T05:00:00+0000</td>\n",
       "      <td>https://www.nytimes.com/1990/02/09/arts/diner-...</td>\n",
       "      <td>Paring More Than PotatoesAll over town, it see...</td>\n",
       "    </tr>\n",
       "    <tr>\n",
       "      <th>2</th>\n",
       "      <td>1990-03-18T05:00:00+0000</td>\n",
       "      <td>https://www.nytimes.com/1990/03/18/us/patient-...</td>\n",
       "      <td>In some ways the case of Edward H. Winter is a...</td>\n",
       "    </tr>\n",
       "    <tr>\n",
       "      <th>3</th>\n",
       "      <td>1990-12-11T05:00:00+0000</td>\n",
       "      <td>https://www.nytimes.com/1990/12/11/business/ma...</td>\n",
       "      <td>The scene inside the showroom at Saturn of Sch...</td>\n",
       "    </tr>\n",
       "    <tr>\n",
       "      <th>4</th>\n",
       "      <td>1990-06-24T05:00:00+0000</td>\n",
       "      <td>https://www.nytimes.com/1990/06/24/sports/worl...</td>\n",
       "      <td>THE television producer asked him for just fiv...</td>\n",
       "    </tr>\n",
       "  </tbody>\n",
       "</table>\n",
       "</div>"
      ],
      "text/plain": [
       "                          0  \\\n",
       "0  1990-10-28T05:00:00+0000   \n",
       "1  1990-02-09T05:00:00+0000   \n",
       "2  1990-03-18T05:00:00+0000   \n",
       "3  1990-12-11T05:00:00+0000   \n",
       "4  1990-06-24T05:00:00+0000   \n",
       "\n",
       "                                                   1  \\\n",
       "0  https://www.nytimes.com/1990/10/28/nyregion/le...   \n",
       "1  https://www.nytimes.com/1990/02/09/arts/diner-...   \n",
       "2  https://www.nytimes.com/1990/03/18/us/patient-...   \n",
       "3  https://www.nytimes.com/1990/12/11/business/ma...   \n",
       "4  https://www.nytimes.com/1990/06/24/sports/worl...   \n",
       "\n",
       "                                                text  \n",
       "0  AS if Long Island did not have enough of its o...  \n",
       "1  Paring More Than PotatoesAll over town, it see...  \n",
       "2  In some ways the case of Edward H. Winter is a...  \n",
       "3  The scene inside the showroom at Saturn of Sch...  \n",
       "4  THE television producer asked him for just fiv...  "
      ]
     },
     "execution_count": 3,
     "metadata": {},
     "output_type": "execute_result"
    }
   ],
   "source": [
    "older_articles = pd.read_csv('1990.csv')[['0', '1', 'text']]\n",
    "older_articles.head()"
   ]
  },
  {
   "cell_type": "code",
   "execution_count": 10,
   "metadata": {},
   "outputs": [],
   "source": [
    "def preprocess_dataframe(df):\n",
    "    df = df[['0', 'text']]\n",
    "    df = df.rename(columns={'0':'date'})\n",
    "    df['date'] = pd.to_datetime(df['date'])\n",
    "    return df"
   ]
  },
  {
   "cell_type": "code",
   "execution_count": 15,
   "metadata": {},
   "outputs": [],
   "source": [
    "older_articles = preprocess_dataframe(older_articles)"
   ]
  },
  {
   "cell_type": "code",
   "execution_count": 16,
   "metadata": {},
   "outputs": [],
   "source": [
    "for year in range(1991, 2000):\n",
    "    filename = '{}.csv'.format(year)\n",
    "    next_month_df = pd.read_csv(filename)\n",
    "    next_month_df = preprocess_dataframe(next_month_df)\n",
    "    older_articles = older_articles.append(next_month_df)"
   ]
  },
  {
   "cell_type": "code",
   "execution_count": 20,
   "metadata": {},
   "outputs": [
    {
     "data": {
      "text/plain": [
       "(10000, 2)"
      ]
     },
     "execution_count": 20,
     "metadata": {},
     "output_type": "execute_result"
    }
   ],
   "source": [
    "older_articles.shape"
   ]
  },
  {
   "cell_type": "code",
   "execution_count": 36,
   "metadata": {},
   "outputs": [],
   "source": [
    "older_articles = older_articles.dropna()"
   ]
  },
  {
   "cell_type": "code",
   "execution_count": 37,
   "metadata": {},
   "outputs": [
    {
     "data": {
      "text/plain": [
       "(9591, 2)"
      ]
     },
     "execution_count": 37,
     "metadata": {},
     "output_type": "execute_result"
    }
   ],
   "source": [
    "older_articles.shape"
   ]
  },
  {
   "cell_type": "code",
   "execution_count": 39,
   "metadata": {},
   "outputs": [],
   "source": [
    "older_articles.to_csv('news_dataset/older_articles.csv', index=False)"
   ]
  },
  {
   "cell_type": "code",
   "execution_count": null,
   "metadata": {},
   "outputs": [],
   "source": []
  }
 ],
 "metadata": {
  "kernelspec": {
   "display_name": "Python 3",
   "language": "python",
   "name": "python3"
  },
  "language_info": {
   "codemirror_mode": {
    "name": "ipython",
    "version": 3
   },
   "file_extension": ".py",
   "mimetype": "text/x-python",
   "name": "python",
   "nbconvert_exporter": "python",
   "pygments_lexer": "ipython3",
   "version": "3.6.8"
  }
 },
 "nbformat": 4,
 "nbformat_minor": 4
}
